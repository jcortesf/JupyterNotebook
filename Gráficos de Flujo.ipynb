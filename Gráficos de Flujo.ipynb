{
 "cells": [
  {
   "cell_type": "markdown",
   "metadata": {},
   "source": [
    "# Gráficos de Flujo"
   ]
  },
  {
   "cell_type": "markdown",
   "metadata": {},
   "source": [
    "## Importar librerías requeridas\n",
    "Para esta clase **matplotlib** no es capaz de generar los gráficos de flujo, por lo tanto se debe recurrir a la librería **altair**.\n",
    "\n",
    "**pip3 install altair**"
   ]
  },
  {
   "cell_type": "code",
   "execution_count": 1,
   "metadata": {},
   "outputs": [],
   "source": [
    "import pandas as pd\n",
    "import altair as alt"
   ]
  },
  {
   "cell_type": "markdown",
   "metadata": {},
   "source": [
    "Se le indica a **altair** que se esta trabajando en un *notebook*"
   ]
  },
  {
   "cell_type": "code",
   "execution_count": 2,
   "metadata": {},
   "outputs": [
    {
     "data": {
      "text/plain": [
       "RendererRegistry.enable('default')"
      ]
     },
     "execution_count": 2,
     "metadata": {},
     "output_type": "execute_result"
    }
   ],
   "source": [
    "alt.renderers.enable('default')"
   ]
  },
  {
   "cell_type": "markdown",
   "metadata": {},
   "source": [
    "# Cargar dataset\n",
    "En esta ocasión, el dataset corresponde a la cantidad de libros leido por una persona de diversos géneros entre el 2011 y el 2019. Cada fila corresponde a la cantidad de libros de un género específico leido en un año específico."
   ]
  },
  {
   "cell_type": "code",
   "execution_count": 8,
   "metadata": {},
   "outputs": [
    {
     "data": {
      "text/html": [
       "<div>\n",
       "<style scoped>\n",
       "    .dataframe tbody tr th:only-of-type {\n",
       "        vertical-align: middle;\n",
       "    }\n",
       "\n",
       "    .dataframe tbody tr th {\n",
       "        vertical-align: top;\n",
       "    }\n",
       "\n",
       "    .dataframe thead th {\n",
       "        text-align: right;\n",
       "    }\n",
       "</style>\n",
       "<table border=\"1\" class=\"dataframe\">\n",
       "  <thead>\n",
       "    <tr style=\"text-align: right;\">\n",
       "      <th></th>\n",
       "      <th>year</th>\n",
       "      <th>count</th>\n",
       "    </tr>\n",
       "  </thead>\n",
       "  <tbody>\n",
       "    <tr>\n",
       "      <th>count</th>\n",
       "      <td>90.000000</td>\n",
       "      <td>90.000000</td>\n",
       "    </tr>\n",
       "    <tr>\n",
       "      <th>mean</th>\n",
       "      <td>2014.500000</td>\n",
       "      <td>12.833333</td>\n",
       "    </tr>\n",
       "    <tr>\n",
       "      <th>std</th>\n",
       "      <td>2.888373</td>\n",
       "      <td>6.153924</td>\n",
       "    </tr>\n",
       "    <tr>\n",
       "      <th>min</th>\n",
       "      <td>2010.000000</td>\n",
       "      <td>2.000000</td>\n",
       "    </tr>\n",
       "    <tr>\n",
       "      <th>25%</th>\n",
       "      <td>2012.000000</td>\n",
       "      <td>8.000000</td>\n",
       "    </tr>\n",
       "    <tr>\n",
       "      <th>50%</th>\n",
       "      <td>2014.500000</td>\n",
       "      <td>13.000000</td>\n",
       "    </tr>\n",
       "    <tr>\n",
       "      <th>75%</th>\n",
       "      <td>2017.000000</td>\n",
       "      <td>17.750000</td>\n",
       "    </tr>\n",
       "    <tr>\n",
       "      <th>max</th>\n",
       "      <td>2019.000000</td>\n",
       "      <td>28.000000</td>\n",
       "    </tr>\n",
       "  </tbody>\n",
       "</table>\n",
       "</div>"
      ],
      "text/plain": [
       "              year      count\n",
       "count    90.000000  90.000000\n",
       "mean   2014.500000  12.833333\n",
       "std       2.888373   6.153924\n",
       "min    2010.000000   2.000000\n",
       "25%    2012.000000   8.000000\n",
       "50%    2014.500000  13.000000\n",
       "75%    2017.000000  17.750000\n",
       "max    2019.000000  28.000000"
      ]
     },
     "execution_count": 8,
     "metadata": {},
     "output_type": "execute_result"
    }
   ],
   "source": [
    "# Se utiliza la función read_csv para cargar el archivo\n",
    "df = pd.read_csv(\"dataset/books.csv\")\n",
    "\n",
    "df.describe()"
   ]
  },
  {
   "cell_type": "code",
   "execution_count": 9,
   "metadata": {},
   "outputs": [
    {
     "data": {
      "text/html": [
       "<div>\n",
       "<style scoped>\n",
       "    .dataframe tbody tr th:only-of-type {\n",
       "        vertical-align: middle;\n",
       "    }\n",
       "\n",
       "    .dataframe tbody tr th {\n",
       "        vertical-align: top;\n",
       "    }\n",
       "\n",
       "    .dataframe thead th {\n",
       "        text-align: right;\n",
       "    }\n",
       "</style>\n",
       "<table border=\"1\" class=\"dataframe\">\n",
       "  <thead>\n",
       "    <tr style=\"text-align: right;\">\n",
       "      <th></th>\n",
       "      <th>genre</th>\n",
       "      <th>year</th>\n",
       "      <th>count</th>\n",
       "    </tr>\n",
       "  </thead>\n",
       "  <tbody>\n",
       "    <tr>\n",
       "      <th>0</th>\n",
       "      <td>acción</td>\n",
       "      <td>2010</td>\n",
       "      <td>17</td>\n",
       "    </tr>\n",
       "    <tr>\n",
       "      <th>1</th>\n",
       "      <td>acción</td>\n",
       "      <td>2011</td>\n",
       "      <td>19</td>\n",
       "    </tr>\n",
       "    <tr>\n",
       "      <th>2</th>\n",
       "      <td>acción</td>\n",
       "      <td>2012</td>\n",
       "      <td>12</td>\n",
       "    </tr>\n",
       "    <tr>\n",
       "      <th>3</th>\n",
       "      <td>acción</td>\n",
       "      <td>2013</td>\n",
       "      <td>9</td>\n",
       "    </tr>\n",
       "    <tr>\n",
       "      <th>4</th>\n",
       "      <td>acción</td>\n",
       "      <td>2014</td>\n",
       "      <td>11</td>\n",
       "    </tr>\n",
       "  </tbody>\n",
       "</table>\n",
       "</div>"
      ],
      "text/plain": [
       "    genre  year  count\n",
       "0  acción  2010     17\n",
       "1  acción  2011     19\n",
       "2  acción  2012     12\n",
       "3  acción  2013      9\n",
       "4  acción  2014     11"
      ]
     },
     "execution_count": 9,
     "metadata": {},
     "output_type": "execute_result"
    }
   ],
   "source": [
    "df.head(5)"
   ]
  },
  {
   "cell_type": "markdown",
   "metadata": {},
   "source": [
    "# Generar visualización\n",
    "Con altair se define un gráfico cuyos datos será el dataframe **( df )** donde además se indica que la marca a utilizar será el área."
   ]
  },
  {
   "cell_type": "code",
   "execution_count": 10,
   "metadata": {},
   "outputs": [],
   "source": [
    "plot = alt.Chart(df).mark_area()"
   ]
  },
  {
   "cell_type": "markdown",
   "metadata": {},
   "source": [
    "Luego se indica como se va a codificar este gráfico\n",
    "- Primero se indica con **alt.X(...)** cual será el **eje X**. En este caso es la columna \"year\" y se pone un \":O\" para indicar que es un dato ordinal.\n",
    "- Segundo se indica con **alt.Y(...)** cual será el **eje Y**. En este caso es la columna \"count\" y se pone un \":Q\" para indicar que es un dato quantitativo. Además, se indica que todas las áreas del gráfico de flujo, estén alineadas en el centro y que no se muestre los números en el eje Y. si no se ponen ambos argumentos **(stack y axis)**, se estaría frente a un fráfico de área apilado.\n",
    "- Tercero se indica con **alt.Color(..)** cual columna utilizar para definir **el color**. en este caso es la columna \"genre\" y se pone un \":N\" para indicar que es un dato nominal.\n",
    "\n",
    "Finalmente, luego de definir toda la codificación, se aplica **.properties(with=600)** para indicar cuantos pixeles utilizar de ancho."
   ]
  },
  {
   "cell_type": "code",
   "execution_count": 12,
   "metadata": {},
   "outputs": [
    {
     "data": {
      "text/html": [
       "\n",
       "<div id=\"altair-viz-7e3b9ba9a6904cffb378c8ed32218062\"></div>\n",
       "<script type=\"text/javascript\">\n",
       "  (function(spec, embedOpt){\n",
       "    let outputDiv = document.currentScript.previousElementSibling;\n",
       "    if (outputDiv.id !== \"altair-viz-7e3b9ba9a6904cffb378c8ed32218062\") {\n",
       "      outputDiv = document.getElementById(\"altair-viz-7e3b9ba9a6904cffb378c8ed32218062\");\n",
       "    }\n",
       "    const paths = {\n",
       "      \"vega\": \"https://cdn.jsdelivr.net/npm//vega@5?noext\",\n",
       "      \"vega-lib\": \"https://cdn.jsdelivr.net/npm//vega-lib?noext\",\n",
       "      \"vega-lite\": \"https://cdn.jsdelivr.net/npm//vega-lite@4.8.1?noext\",\n",
       "      \"vega-embed\": \"https://cdn.jsdelivr.net/npm//vega-embed@6?noext\",\n",
       "    };\n",
       "\n",
       "    function loadScript(lib) {\n",
       "      return new Promise(function(resolve, reject) {\n",
       "        var s = document.createElement('script');\n",
       "        s.src = paths[lib];\n",
       "        s.async = true;\n",
       "        s.onload = () => resolve(paths[lib]);\n",
       "        s.onerror = () => reject(`Error loading script: ${paths[lib]}`);\n",
       "        document.getElementsByTagName(\"head\")[0].appendChild(s);\n",
       "      });\n",
       "    }\n",
       "\n",
       "    function showError(err) {\n",
       "      outputDiv.innerHTML = `<div class=\"error\" style=\"color:red;\">${err}</div>`;\n",
       "      throw err;\n",
       "    }\n",
       "\n",
       "    function displayChart(vegaEmbed) {\n",
       "      vegaEmbed(outputDiv, spec, embedOpt)\n",
       "        .catch(err => showError(`Javascript Error: ${err.message}<br>This usually means there's a typo in your chart specification. See the javascript console for the full traceback.`));\n",
       "    }\n",
       "\n",
       "    if(typeof define === \"function\" && define.amd) {\n",
       "      requirejs.config({paths});\n",
       "      require([\"vega-embed\"], displayChart, err => showError(`Error loading script: ${err.message}`));\n",
       "    } else if (typeof vegaEmbed === \"function\") {\n",
       "      displayChart(vegaEmbed);\n",
       "    } else {\n",
       "      loadScript(\"vega\")\n",
       "        .then(() => loadScript(\"vega-lite\"))\n",
       "        .then(() => loadScript(\"vega-embed\"))\n",
       "        .catch(showError)\n",
       "        .then(() => displayChart(vegaEmbed));\n",
       "    }\n",
       "  })({\"config\": {\"view\": {\"continuousWidth\": 400, \"continuousHeight\": 300}}, \"data\": {\"name\": \"data-ec2a4d20363f503155f57006767b3588\"}, \"mark\": \"area\", \"encoding\": {\"color\": {\"type\": \"nominal\", \"field\": \"genre\"}, \"x\": {\"type\": \"ordinal\", \"field\": \"year\"}, \"y\": {\"type\": \"quantitative\", \"axis\": null, \"field\": \"count\", \"stack\": \"center\"}}, \"width\": 600, \"$schema\": \"https://vega.github.io/schema/vega-lite/v4.8.1.json\", \"datasets\": {\"data-ec2a4d20363f503155f57006767b3588\": [{\"genre\": \"acci\\u00f3n\", \"year\": 2010, \"count\": 17}, {\"genre\": \"acci\\u00f3n\", \"year\": 2011, \"count\": 19}, {\"genre\": \"acci\\u00f3n\", \"year\": 2012, \"count\": 12}, {\"genre\": \"acci\\u00f3n\", \"year\": 2013, \"count\": 9}, {\"genre\": \"acci\\u00f3n\", \"year\": 2014, \"count\": 11}, {\"genre\": \"acci\\u00f3n\", \"year\": 2015, \"count\": 15}, {\"genre\": \"acci\\u00f3n\", \"year\": 2016, \"count\": 16}, {\"genre\": \"acci\\u00f3n\", \"year\": 2017, \"count\": 19}, {\"genre\": \"acci\\u00f3n\", \"year\": 2018, \"count\": 17}, {\"genre\": \"acci\\u00f3n\", \"year\": 2019, \"count\": 12}, {\"genre\": \"aventura\", \"year\": 2010, \"count\": 19}, {\"genre\": \"aventura\", \"year\": 2011, \"count\": 19}, {\"genre\": \"aventura\", \"year\": 2012, \"count\": 19}, {\"genre\": \"aventura\", \"year\": 2013, \"count\": 8}, {\"genre\": \"aventura\", \"year\": 2014, \"count\": 22}, {\"genre\": \"aventura\", \"year\": 2015, \"count\": 21}, {\"genre\": \"aventura\", \"year\": 2016, \"count\": 9}, {\"genre\": \"aventura\", \"year\": 2017, \"count\": 10}, {\"genre\": \"aventura\", \"year\": 2018, \"count\": 10}, {\"genre\": \"aventura\", \"year\": 2019, \"count\": 19}, {\"genre\": \"comedia\", \"year\": 2010, \"count\": 12}, {\"genre\": \"comedia\", \"year\": 2011, \"count\": 15}, {\"genre\": \"comedia\", \"year\": 2012, \"count\": 5}, {\"genre\": \"comedia\", \"year\": 2013, \"count\": 21}, {\"genre\": \"comedia\", \"year\": 2014, \"count\": 6}, {\"genre\": \"comedia\", \"year\": 2015, \"count\": 7}, {\"genre\": \"comedia\", \"year\": 2016, \"count\": 9}, {\"genre\": \"comedia\", \"year\": 2017, \"count\": 11}, {\"genre\": \"comedia\", \"year\": 2018, \"count\": 18}, {\"genre\": \"comedia\", \"year\": 2019, \"count\": 9}, {\"genre\": \"drama\", \"year\": 2010, \"count\": 5}, {\"genre\": \"drama\", \"year\": 2011, \"count\": 18}, {\"genre\": \"drama\", \"year\": 2012, \"count\": 8}, {\"genre\": \"drama\", \"year\": 2013, \"count\": 13}, {\"genre\": \"drama\", \"year\": 2014, \"count\": 18}, {\"genre\": \"drama\", \"year\": 2015, \"count\": 8}, {\"genre\": \"drama\", \"year\": 2016, \"count\": 12}, {\"genre\": \"drama\", \"year\": 2017, \"count\": 5}, {\"genre\": \"drama\", \"year\": 2018, \"count\": 15}, {\"genre\": \"drama\", \"year\": 2019, \"count\": 13}, {\"genre\": \"terror\", \"year\": 2010, \"count\": 13}, {\"genre\": \"terror\", \"year\": 2011, \"count\": 16}, {\"genre\": \"terror\", \"year\": 2012, \"count\": 7}, {\"genre\": \"terror\", \"year\": 2013, \"count\": 11}, {\"genre\": \"terror\", \"year\": 2014, \"count\": 2}, {\"genre\": \"terror\", \"year\": 2015, \"count\": 13}, {\"genre\": \"terror\", \"year\": 2016, \"count\": 4}, {\"genre\": \"terror\", \"year\": 2017, \"count\": 5}, {\"genre\": \"terror\", \"year\": 2018, \"count\": 2}, {\"genre\": \"terror\", \"year\": 2019, \"count\": 11}, {\"genre\": \"guerras\", \"year\": 2010, \"count\": 15}, {\"genre\": \"guerras\", \"year\": 2011, \"count\": 18}, {\"genre\": \"guerras\", \"year\": 2012, \"count\": 10}, {\"genre\": \"guerras\", \"year\": 2013, \"count\": 17}, {\"genre\": \"guerras\", \"year\": 2014, \"count\": 6}, {\"genre\": \"guerras\", \"year\": 2015, \"count\": 6}, {\"genre\": \"guerras\", \"year\": 2016, \"count\": 2}, {\"genre\": \"guerras\", \"year\": 2017, \"count\": 17}, {\"genre\": \"guerras\", \"year\": 2018, \"count\": 15}, {\"genre\": \"guerras\", \"year\": 2019, \"count\": 17}, {\"genre\": \"crimen\", \"year\": 2010, \"count\": 2}, {\"genre\": \"crimen\", \"year\": 2011, \"count\": 3}, {\"genre\": \"crimen\", \"year\": 2012, \"count\": 5}, {\"genre\": \"crimen\", \"year\": 2013, \"count\": 11}, {\"genre\": \"crimen\", \"year\": 2014, \"count\": 6}, {\"genre\": \"crimen\", \"year\": 2015, \"count\": 3}, {\"genre\": \"crimen\", \"year\": 2016, \"count\": 7}, {\"genre\": \"crimen\", \"year\": 2017, \"count\": 15}, {\"genre\": \"crimen\", \"year\": 2018, \"count\": 6}, {\"genre\": \"crimen\", \"year\": 2019, \"count\": 6}, {\"genre\": \"romance\", \"year\": 2010, \"count\": 16}, {\"genre\": \"romance\", \"year\": 2011, \"count\": 18}, {\"genre\": \"romance\", \"year\": 2012, \"count\": 13}, {\"genre\": \"romance\", \"year\": 2013, \"count\": 14}, {\"genre\": \"romance\", \"year\": 2014, \"count\": 20}, {\"genre\": \"romance\", \"year\": 2015, \"count\": 23}, {\"genre\": \"romance\", \"year\": 2016, \"count\": 10}, {\"genre\": \"romance\", \"year\": 2017, \"count\": 28}, {\"genre\": \"romance\", \"year\": 2018, \"count\": 18}, {\"genre\": \"romance\", \"year\": 2019, \"count\": 12}, {\"genre\": \"mundo m\\u00e1gico\", \"year\": 2010, \"count\": 21}, {\"genre\": \"mundo m\\u00e1gico\", \"year\": 2011, \"count\": 10}, {\"genre\": \"mundo m\\u00e1gico\", \"year\": 2012, \"count\": 18}, {\"genre\": \"mundo m\\u00e1gico\", \"year\": 2013, \"count\": 13}, {\"genre\": \"mundo m\\u00e1gico\", \"year\": 2014, \"count\": 13}, {\"genre\": \"mundo m\\u00e1gico\", \"year\": 2015, \"count\": 28}, {\"genre\": \"mundo m\\u00e1gico\", \"year\": 2016, \"count\": 15}, {\"genre\": \"mundo m\\u00e1gico\", \"year\": 2017, \"count\": 28}, {\"genre\": \"mundo m\\u00e1gico\", \"year\": 2018, \"count\": 15}, {\"genre\": \"mundo m\\u00e1gico\", \"year\": 2019, \"count\": 20}]}}, {\"mode\": \"vega-lite\"});\n",
       "</script>"
      ],
      "text/plain": [
       "alt.Chart(...)"
      ]
     },
     "execution_count": 12,
     "metadata": {},
     "output_type": "execute_result"
    }
   ],
   "source": [
    "plot.encode(\n",
    "    alt.X('year:O'),\n",
    "    alt.Y('count:Q', stack=\"center\", axis=None),\n",
    "    alt.Color('genre:N')\n",
    ").properties(width=600)"
   ]
  }
 ],
 "metadata": {
  "kernelspec": {
   "display_name": "Python 3",
   "language": "python",
   "name": "python3"
  },
  "language_info": {
   "codemirror_mode": {
    "name": "ipython",
    "version": 3
   },
   "file_extension": ".py",
   "mimetype": "text/x-python",
   "name": "python",
   "nbconvert_exporter": "python",
   "pygments_lexer": "ipython3",
   "version": "3.8.3"
  }
 },
 "nbformat": 4,
 "nbformat_minor": 4
}
